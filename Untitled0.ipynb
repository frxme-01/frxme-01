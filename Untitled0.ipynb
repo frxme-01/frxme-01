{
  "nbformat": 4,
  "nbformat_minor": 0,
  "metadata": {
    "colab": {
      "provenance": [],
      "authorship_tag": "ABX9TyOQZA6G624rUcL1Mc7s4qEW",
      "include_colab_link": true
    },
    "kernelspec": {
      "name": "python3",
      "display_name": "Python 3"
    },
    "language_info": {
      "name": "python"
    }
  },
  "cells": [
    {
      "cell_type": "markdown",
      "metadata": {
        "id": "view-in-github",
        "colab_type": "text"
      },
      "source": [
        "<a href=\"https://colab.research.google.com/github/frxme-01/frxme-01/blob/main/Untitled0.ipynb\" target=\"_parent\"><img src=\"https://colab.research.google.com/assets/colab-badge.svg\" alt=\"Open In Colab\"/></a>"
      ]
    },
    {
      "cell_type": "code",
      "source": [
        "b = input('base : ')\n",
        "h = input('height : ')\n",
        "print(1/2*int(b)*int(h))"
      ],
      "metadata": {
        "colab": {
          "base_uri": "https://localhost:8080/"
        },
        "id": "luOdvwKsarxD",
        "outputId": "2942a2aa-af82-4e91-e6dd-5b1caf626eaf"
      },
      "execution_count": 10,
      "outputs": [
        {
          "output_type": "stream",
          "name": "stdout",
          "text": [
            "base : 10\n",
            "hight : 10\n",
            "50.0\n"
          ]
        }
      ]
    },
    {
      "cell_type": "code",
      "source": [
        "r = input('radius : ')\n",
        "h = input('height : ')\n",
        "print(3.14*int(r)*int(r)*int(h))"
      ],
      "metadata": {
        "colab": {
          "base_uri": "https://localhost:8080/"
        },
        "id": "HcYc_QjXcChQ",
        "outputId": "1fde95da-407b-41f3-d200-071b40285afe"
      },
      "execution_count": 14,
      "outputs": [
        {
          "output_type": "stream",
          "name": "stdout",
          "text": [
            "radius : 10\n",
            "height : 10\n",
            "3140.0\n"
          ]
        }
      ]
    },
    {
      "cell_type": "code",
      "source": [
        "hour = input('hour = ')\n",
        "min = input('minute = ')\n",
        "sec = input('second = ')\n",
        "current_time = f\"{int(hour) : 00}:{int(min) : 00}:{int(sec) : 00}\"\n",
        "print(f'current time is {current_time}')"
      ],
      "metadata": {
        "colab": {
          "base_uri": "https://localhost:8080/"
        },
        "id": "oHxmbMJ9kUHH",
        "outputId": "192a8109-f58a-487d-f0af-d50182ce846a"
      },
      "execution_count": 19,
      "outputs": [
        {
          "output_type": "stream",
          "name": "stdout",
          "text": [
            "hour = 11\n",
            "minute = 11\n",
            "second = 11\n",
            "current time is  11: 11: 11\n"
          ]
        }
      ]
    }
  ]
}