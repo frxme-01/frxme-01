{
  "cells": [
    {
      "cell_type": "markdown",
      "metadata": {
        "id": "view-in-github",
        "colab_type": "text"
      },
      "source": [
        "<a href=\"https://colab.research.google.com/github/frxme-01/frxme-01/blob/main/Untitled0.ipynb\" target=\"_parent\"><img src=\"https://colab.research.google.com/assets/colab-badge.svg\" alt=\"Open In Colab\"/></a>"
      ]
    },
    {
      "cell_type": "code",
      "execution_count": null,
      "metadata": {
        "id": "luOdvwKsarxD"
      },
      "outputs": [],
      "source": [
        "b = input('base : ')\n",
        "h = input('height : ')\n",
        "print(1/2*int(b)*int(h))"
      ]
    },
    {
      "cell_type": "code",
      "execution_count": null,
      "metadata": {
        "id": "HcYc_QjXcChQ"
      },
      "outputs": [],
      "source": [
        "r = input('radius : ')\n",
        "h = input('height : ')\n",
        "print(3.14*int(r)*int(r)*int(h))"
      ]
    },
    {
      "cell_type": "code",
      "execution_count": null,
      "metadata": {
        "id": "oHxmbMJ9kUHH"
      },
      "outputs": [],
      "source": [
        "hour = input('hour = ')\n",
        "min = input('minute = ')\n",
        "sec = input('second = ')\n",
        "current_time = f\"{int(hour) : 00}:{int(min) : 00}:{int(sec) : 00}\"\n",
        "print(f'current time is {current_time}')"
      ]
    },
    {
      "cell_type": "code",
      "execution_count": null,
      "metadata": {
        "id": "bmINW1Fb5VsX"
      },
      "outputs": [],
      "source": [
        "M = input('Mid-term = ')\n",
        "F = input('Final = ')\n",
        "H = input('Homework = ')\n",
        "print((int(M)*40/100)+(int(F)*50/100)+(int(H)*10/100))"
      ]
    },
    {
      "cell_type": "code",
      "execution_count": null,
      "metadata": {
        "id": "o4tzui6E-pQe"
      },
      "outputs": [],
      "source": [
        "x1 = input('x1 = ')\n",
        "x2 = input('x2 = ')\n",
        "x3 = input('x3 = ')\n",
        "x4 = input('x4 = ')\n",
        "print(((x1),(x2),(x3),(x4)))\n",
        "print((int(x1)+int(x2)+int(x3)+int(x4))/4)"
      ]
    },
    {
      "cell_type": "code",
      "execution_count": null,
      "metadata": {
        "colab": {
          "background_save": true
        },
        "id": "VMwFe91CR7HI"
      },
      "outputs": [],
      "source": [
        "student_id = input(\"Enter Student ID: \")\n",
        "name = input(\"Enter Name: \")\n",
        "s1 = (f\"Year Entry : 25{student_id[:2 ]}\")\n",
        "s2 = (f\" Last 4 Digits : {student_id[-4:]}\")\n",
        "s3 = s1+s2\n",
        "print(f\"student ID : {student_id},{name}\")\n",
        "print(s3)\n",
        "print(\"Department : Computer Engineering\")"
      ]
    },
    {
      "cell_type": "code",
      "execution_count": null,
      "metadata": {
        "id": "qfVpf_v3krQk"
      },
      "outputs": [],
      "source": [
        "a = float(input('a = '))\n",
        "b = float(input('b = '))\n",
        "c = float(input('c = '))\n",
        "y1 = ((int(b)**2) - 4*int(a)*int(c))\n",
        "y2 = (y1**0.5)\n",
        "y3 = (2*int(a))\n",
        "k = ((-int(b) + y2) /y3)\n",
        "j = ((-int(b)-y2)/y3)\n",
        "print(f'x1 = {k},x2 = {j}')"
      ]
    }
  ],
  "metadata": {
    "colab": {
      "provenance": [],
      "authorship_tag": "ABX9TyNmpQGR3+xLQBuxNsGiLeFO",
      "include_colab_link": true
    },
    "kernelspec": {
      "display_name": "Python 3",
      "name": "python3"
    },
    "language_info": {
      "name": "python"
    }
  },
  "nbformat": 4,
  "nbformat_minor": 0
}